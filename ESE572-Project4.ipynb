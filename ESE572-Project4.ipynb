{
 "cells": [
  {
   "cell_type": "code",
   "execution_count": 79,
   "metadata": {},
   "outputs": [],
   "source": [
    "import numpy as np"
   ]
  },
  {
   "cell_type": "code",
   "execution_count": 80,
   "metadata": {},
   "outputs": [],
   "source": [
    "network = [\n",
    "    ['A', 2, 'B'],\n",
    "    ['A', 1, 'D'],\n",
    "    ['A', 2, 'E'],\n",
    "    ['B', 1, 'C'],\n",
    "    ['B', 6, 'F'],\n",
    "    ['C', 1, 'D'],\n",
    "    ['C', 3, 'G'],\n",
    "    ['D', 4, 'E'],\n",
    "    ['D', 2, 'H'],\n",
    "    ['E', 1, 'I'],\n",
    "    ['F', 1, 'G'],\n",
    "    ['F', 1, 'J'],\n",
    "    ['G', 3, 'H'],\n",
    "    ['G', 3, 'J'],\n",
    "    ['H', 4, 'I'],\n",
    "    ['I', 2, 'J']\n",
    "]\n",
    "network = np.array(network)"
   ]
  },
  {
   "cell_type": "markdown",
   "metadata": {},
   "source": [
    "Greedy Algorithm:\n",
    "\n",
    "Initialization: Set up any required data structures and variables.\n",
    "\n",
    "Choosing the Optimal Solution at Each Step: At each step of the algorithm, choose the best available option without considering future consequences.\n",
    "\n",
    "Feasibility Check: Ensure that the choice made is feasible with the constraints of the problem.\n",
    "\n",
    "Update the State: Update the variables and data structures based on the choice made.\n",
    "\n",
    "Check for Completion: Determine if the end condition of the algorithm is met. If not, go back to step 2.\n",
    "\n",
    "Return the Result: Once the end condition is met, return the result."
   ]
  },
  {
   "cell_type": "code",
   "execution_count": 81,
   "metadata": {},
   "outputs": [],
   "source": [
    "beg = 0\n",
    "dist = 1\n",
    "end = 2"
   ]
  },
  {
   "cell_type": "code",
   "execution_count": 82,
   "metadata": {},
   "outputs": [],
   "source": [
    "def best_state(current_state, states_passed, goal_state):\n",
    "    relevant_network = network.copy()\n",
    "    \n",
    "    # irrelevant edges are the ones 1) involving states that already visited or 2) doesn't have an end as the current state\n",
    "    irrelevant_edges = []\n",
    "    \n",
    "    for i, edge in enumerate(network):\n",
    "        if edge[beg] in states_passed or edge[end] in states_passed: # if already visited\n",
    "            irrelevant_edges.append(i)\n",
    "        elif edge[beg] != current_state and edge[end] != current_state: # if the current state is not an end\n",
    "            irrelevant_edges.append(i)\n",
    "    \n",
    "    # remove the irrelevant edges, then the remaining is the relevant ones\n",
    "    relevant_network = np.delete(relevant_network, irrelevant_edges, axis=0)\n",
    "    \n",
    "    # get the shortest distance to next edge\n",
    "    dists = [int(dis) for dis in relevant_network[:, dist]] \n",
    "    shortest_dist = min(dists)\n",
    "    \n",
    "    return_edge = []\n",
    "    # if the goal state is in the avalable states and if its distance is the same as the shortest distance\n",
    "    # then go to the goal state directly\n",
    "    go_to_goal = False\n",
    "    for edge in relevant_network:\n",
    "        if goal_state in edge and int(edge[dist]) == shortest_dist:\n",
    "            go_to_goal = True\n",
    "            return_edge = edge\n",
    " \n",
    "    # if the goal is not available or its distance is now the shortest\n",
    "    if not go_to_goal:  \n",
    "        edge_index = dists.index(min(dists))\n",
    "        return_edge = relevant_network[edge_index]\n",
    "    \n",
    "    # find the next state and distance to the next state\n",
    "    next_state = return_edge[2 - return_edge.tolist().index(current_state)]\n",
    "    distance = int(return_edge[dist])\n",
    "    \n",
    "    return next_state, distance"
   ]
  },
  {
   "cell_type": "code",
   "execution_count": 83,
   "metadata": {},
   "outputs": [],
   "source": [
    "def greedy(initial_state, goal_state):\n",
    "    current_state = initial_state\n",
    "    \n",
    "    states_passed = []\n",
    "    total_distance = 0\n",
    "    \n",
    "    while current_state != goal_state:\n",
    "        \n",
    "        # choose the best state \n",
    "        next_state, next_distance = best_state(current_state, states_passed, goal_state)\n",
    "        \n",
    "        # move to the best state\n",
    "        states_passed.append(current_state)\n",
    "        total_distance += next_distance\n",
    "        current_state = next_state\n",
    "    \n",
    "    states_passed.append(goal_state)\n",
    "    return states_passed, total_distance"
   ]
  },
  {
   "cell_type": "code",
   "execution_count": 84,
   "metadata": {},
   "outputs": [
    {
     "name": "stdout",
     "output_type": "stream",
     "text": [
      "The path is: ['A', 'D', 'C', 'B', 'F', 'J'] with a total distance = 10\n",
      "The path is: ['B', 'C', 'D', 'A', 'E', 'I'] with a total distance = 6\n",
      "The path is: ['A', 'D', 'C', 'B', 'F', 'G'] with a total distance = 10\n",
      "The path is: ['E', 'I', 'J', 'F'] with a total distance = 4\n",
      "The path is: ['B', 'C', 'D', 'A', 'E', 'I', 'J'] with a total distance = 8\n",
      "The path is: ['D', 'A', 'B', 'C', 'G'] with a total distance = 7\n"
     ]
    }
   ],
   "source": [
    "states_passed, total_distance = greedy('A', 'J')\n",
    "print(\"The path is:\", states_passed, \"with a total distance =\", total_distance)\n",
    "\n",
    "states_passed, total_distance = greedy('B', 'I')\n",
    "print(\"The path is:\", states_passed, \"with a total distance =\", total_distance)\n",
    "\n",
    "states_passed, total_distance = greedy('A', 'G')\n",
    "print(\"The path is:\", states_passed, \"with a total distance =\", total_distance)\n",
    "\n",
    "states_passed, total_distance = greedy('E', 'F')\n",
    "print(\"The path is:\", states_passed, \"with a total distance =\", total_distance)\n",
    "\n",
    "states_passed, total_distance = greedy('B', 'J')\n",
    "print(\"The path is:\", states_passed, \"with a total distance =\", total_distance)\n",
    "\n",
    "states_passed, total_distance = greedy('D', 'G')\n",
    "print(\"The path is:\", states_passed, \"with a total distance =\", total_distance)\n",
    "\n"
   ]
  }
 ],
 "metadata": {
  "kernelspec": {
   "display_name": "Python 3",
   "language": "python",
   "name": "python3"
  },
  "language_info": {
   "codemirror_mode": {
    "name": "ipython",
    "version": 3
   },
   "file_extension": ".py",
   "mimetype": "text/x-python",
   "name": "python",
   "nbconvert_exporter": "python",
   "pygments_lexer": "ipython3",
   "version": "3.10.4"
  }
 },
 "nbformat": 4,
 "nbformat_minor": 2
}
